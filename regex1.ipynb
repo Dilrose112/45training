{
 "cells": [
  {
   "cell_type": "code",
   "execution_count": 2,
   "id": "fa7195a5-0fd1-4d76-95a9-6bd157449737",
   "metadata": {},
   "outputs": [],
   "source": [
    "import regex"
   ]
  },
  {
   "cell_type": "code",
   "execution_count": 3,
   "id": "d7115ff2-ac7d-4772-b669-2fb2d761e396",
   "metadata": {},
   "outputs": [],
   "source": [
    "patt=\"[a-zA-Z0-9._]+@[a-z]+.[a-z]{2,6}\""
   ]
  },
  {
   "cell_type": "code",
   "execution_count": 5,
   "id": "0b21f5f4-7e5e-4db2-86e5-e4a2b61a214b",
   "metadata": {},
   "outputs": [
    {
     "name": "stdin",
     "output_type": "stream",
     "text": [
      "Enter you email id:  wdfqwef\\\n"
     ]
    },
    {
     "name": "stdout",
     "output_type": "stream",
     "text": [
      "No match found!\n"
     ]
    }
   ],
   "source": [
    "m=input(\"Enter you email id: \")\n",
    "match=regex.findall(pattern=patt,string=m)\n",
    "if not match:\n",
    "    print(\"No match found!\")\n",
    "else:\n",
    "    print(match)"
   ]
  },
  {
   "cell_type": "code",
   "execution_count": 7,
   "id": "04890c32-4416-420e-b252-ec149a544a75",
   "metadata": {},
   "outputs": [
    {
     "name": "stderr",
     "output_type": "stream",
     "text": [
      "<>:1: SyntaxWarning: invalid escape sequence '\\d'\n",
      "<>:1: SyntaxWarning: invalid escape sequence '\\d'\n",
      "C:\\Users\\HP\\AppData\\Local\\Temp\\ipykernel_21392\\2389507566.py:1: SyntaxWarning: invalid escape sequence '\\d'\n",
      "  passs='^(?=.*[a-z])(?=.*[A-Z])(?=.*\\d)(?=.*[@$!%*?&])[A-Za-z\\d@$!%*?&]{8,}$'\n"
     ]
    }
   ],
   "source": [
    "passs='^(?=.*[a-z])(?=.*[A-Z])(?=.*\\d)(?=.*[@$!%*?&])[A-Za-z\\d@$!%*?&]{8,}$' "
   ]
  },
  {
   "cell_type": "code",
   "execution_count": 9,
   "id": "af7404b8-4349-429e-b46a-f1b4d6e3d6df",
   "metadata": {},
   "outputs": [
    {
     "name": "stdin",
     "output_type": "stream",
     "text": [
      "Enter password: Dilrose@112\n"
     ]
    },
    {
     "name": "stdout",
     "output_type": "stream",
     "text": [
      "['Dilrose@112']\n"
     ]
    },
    {
     "data": {
      "text/plain": [
       "'\\nif not valid:\\n    print(\"WEAK PASSWORD\")\\nelse:\\n    print(\"STRONG PASSWORD\")\\n'"
      ]
     },
     "execution_count": 9,
     "metadata": {},
     "output_type": "execute_result"
    }
   ],
   "source": [
    "p=input(\"Enter password:\")\n",
    "valid=regex.findall(passs,p)\n",
    "print(valid)\n",
    "'''\n",
    "if not valid:\n",
    "    print(\"WEAK PASSWORD\")\n",
    "else:\n",
    "    print(\"STRONG PASSWORD\")\n",
    "'''"
   ]
  },
  {
   "cell_type": "code",
   "execution_count": null,
   "id": "ba4be409-1343-4f62-800d-62e9fcef5f38",
   "metadata": {},
   "outputs": [],
   "source": []
  }
 ],
 "metadata": {
  "kernelspec": {
   "display_name": "Python 3 (ipykernel)",
   "language": "python",
   "name": "python3"
  },
  "language_info": {
   "codemirror_mode": {
    "name": "ipython",
    "version": 3
   },
   "file_extension": ".py",
   "mimetype": "text/x-python",
   "name": "python",
   "nbconvert_exporter": "python",
   "pygments_lexer": "ipython3",
   "version": "3.13.1"
  }
 },
 "nbformat": 4,
 "nbformat_minor": 5
}
