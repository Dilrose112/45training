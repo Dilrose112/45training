{
 "cells": [
  {
   "cell_type": "code",
   "execution_count": 19,
   "id": "ec985a37-a305-49d7-8f1b-581d86f07d54",
   "metadata": {},
   "outputs": [],
   "source": [
    "from selenium import webdriver\n",
    "from selenium.webdriver.common.by import By\n",
    "import time"
   ]
  },
  {
   "cell_type": "code",
   "execution_count": 29,
   "id": "316e71d5-9e63-4f2e-8117-4e1af92a3b8b",
   "metadata": {},
   "outputs": [],
   "source": [
    "driver=webdriver.Edge()\n",
    "driver.get(\"https://wikipedia.com\")\n",
    "time.sleep(5)\n",
    "search = driver.find_element(By.NAME,\"search\")\n",
    "search.send_keys(\"English\")\n",
    "go=driver.find_element(By.XPATH,\"/html/body/main/div[2]/form/fieldset/button\")\n",
    "go.click()"
   ]
  },
  {
   "cell_type": "code",
   "execution_count": null,
   "id": "322a9abb-dea5-4454-b8aa-8d484149790b",
   "metadata": {},
   "outputs": [],
   "source": []
  },
  {
   "cell_type": "code",
   "execution_count": null,
   "id": "e5bbc13f-fbd6-40bb-ac10-1b3823b0a64f",
   "metadata": {},
   "outputs": [],
   "source": []
  }
 ],
 "metadata": {
  "kernelspec": {
   "display_name": "Python 3 (ipykernel)",
   "language": "python",
   "name": "python3"
  },
  "language_info": {
   "codemirror_mode": {
    "name": "ipython",
    "version": 3
   },
   "file_extension": ".py",
   "mimetype": "text/x-python",
   "name": "python",
   "nbconvert_exporter": "python",
   "pygments_lexer": "ipython3",
   "version": "3.13.1"
  }
 },
 "nbformat": 4,
 "nbformat_minor": 5
}
