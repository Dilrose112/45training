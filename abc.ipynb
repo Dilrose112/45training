{
 "cells": [
  {
   "cell_type": "code",
   "execution_count": 1,
   "id": "242fbd42-68e1-4ff1-b538-c25c09d8d50c",
   "metadata": {},
   "outputs": [],
   "source": [
    "ar1=[12,42,53,3,98,38,76]\n",
    "ar2=[32,87,83,12,3,42,75]"
   ]
  },
  {
   "cell_type": "code",
   "execution_count": 4,
   "id": "2d83affb-6912-4f42-8101-0355009ff1c8",
   "metadata": {},
   "outputs": [
    {
     "data": {
      "text/plain": [
       "[12, 42, 3]"
      ]
     },
     "execution_count": 4,
     "metadata": {},
     "output_type": "execute_result"
    }
   ],
   "source": [
    "ans=[]\n",
    "for i in ar1:\n",
    "    for j in ar2:\n",
    "        if i==j:\n",
    "            ans.append(i)\n",
    "ans"
   ]
  },
  {
   "cell_type": "code",
   "execution_count": null,
   "id": "2af4bb24-5ce1-4b45-9bbf-cbd1454c781b",
   "metadata": {},
   "outputs": [],
   "source": []
  }
 ],
 "metadata": {
  "kernelspec": {
   "display_name": "Python 3 (ipykernel)",
   "language": "python",
   "name": "python3"
  },
  "language_info": {
   "codemirror_mode": {
    "name": "ipython",
    "version": 3
   },
   "file_extension": ".py",
   "mimetype": "text/x-python",
   "name": "python",
   "nbconvert_exporter": "python",
   "pygments_lexer": "ipython3",
   "version": "3.13.1"
  }
 },
 "nbformat": 4,
 "nbformat_minor": 5
}
